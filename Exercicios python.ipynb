{
  "nbformat": 4,
  "nbformat_minor": 0,
  "metadata": {
    "colab": {
      "name": "Untitled2.ipynb",
      "provenance": [],
      "collapsed_sections": [],
      "authorship_tag": "ABX9TyOR8g85ytqPh5kiBCUS+OAm",
      "include_colab_link": true
    },
    "kernelspec": {
      "name": "python3",
      "display_name": "Python 3"
    }
  },
  "cells": [
    {
      "cell_type": "markdown",
      "metadata": {
        "id": "view-in-github",
        "colab_type": "text"
      },
      "source": [
        "<a href=\"https://colab.research.google.com/github/aislansantos/crud-novo/blob/master/Exercicios%20python.ipynb\" target=\"_parent\"><img src=\"https://colab.research.google.com/assets/colab-badge.svg\" alt=\"Open In Colab\"/></a>"
      ]
    },
    {
      "cell_type": "code",
      "metadata": {
        "colab": {
          "base_uri": "https://localhost:8080/",
          "height": 35
        },
        "id": "vVnhWjjXjACR",
        "outputId": "dce22020-683c-413b-db24-58a925f6ab02"
      },
      "source": [
        "#Escreva uma função que gagueje uma palavra como se alguém estivesse lutando para lê-la.\r\n",
        "#As duas primeiras letras são repetidas duas vezes com uma elipse e espaço após cada uma,\r\n",
        "#e então a palavra é pronunciada com um ponto de interrogação ....?\r\n",
        "def stutter(word):\r\n",
        "  s = word[:2]\r\n",
        "  return ('{} ... {} ... {}?'.format(s,s, word))\r\n",
        "\r\n",
        "\r\n",
        "stutter('gagueira')"
      ],
      "execution_count": 42,
      "outputs": [
        {
          "output_type": "execute_result",
          "data": {
            "application/vnd.google.colaboratory.intrinsic+json": {
              "type": "string"
            },
            "text/plain": [
              "'ga ... ga ... gagueira?'"
            ]
          },
          "metadata": {
            "tags": []
          },
          "execution_count": 42
        }
      ]
    },
    {
      "cell_type": "code",
      "metadata": {
        "colab": {
          "base_uri": "https://localhost:8080/"
        },
        "id": "zYJK8K7XrbLt",
        "outputId": "bfaf4e98-7ec7-4abd-8788-8ff7708b4b8c"
      },
      "source": [
        "def get_first_value(number_list):\r\n",
        "  return number_list[-2]\r\n",
        " \r\n",
        "number_list = [4, 5, 8, 87, 45, 1544558, 454]\r\n",
        "get_first_value(number_list)"
      ],
      "execution_count": 19,
      "outputs": [
        {
          "output_type": "execute_result",
          "data": {
            "text/plain": [
              "1544558"
            ]
          },
          "metadata": {
            "tags": []
          },
          "execution_count": 19
        }
      ]
    },
    {
      "cell_type": "code",
      "metadata": {
        "colab": {
          "base_uri": "https://localhost:8080/"
        },
        "id": "y3NWnQkveOxe",
        "outputId": "615a94db-e160-4f29-856f-c12c86d1de39"
      },
      "source": [
        "def next_edge(side1, side2):\r\n",
        "\treturn (side1 + side2) -1\r\n",
        "\r\n",
        "next_edge(8, 10)"
      ],
      "execution_count": 23,
      "outputs": [
        {
          "output_type": "execute_result",
          "data": {
            "text/plain": [
              "17"
            ]
          },
          "metadata": {
            "tags": []
          },
          "execution_count": 23
        }
      ]
    },
    {
      "cell_type": "code",
      "metadata": {
        "colab": {
          "base_uri": "https://localhost:8080/"
        },
        "id": "w0v0oXgld1My",
        "outputId": "dccb250e-7d34-4a81-ec43-ebc25c120f89"
      },
      "source": [
        "def cubes(a):\r\n",
        "\treturn a ** 3\r\n",
        "\r\n",
        "cubes(5)"
      ],
      "execution_count": 22,
      "outputs": [
        {
          "output_type": "execute_result",
          "data": {
            "text/plain": [
              "125"
            ]
          },
          "metadata": {
            "tags": []
          },
          "execution_count": 22
        }
      ]
    }
  ]
}